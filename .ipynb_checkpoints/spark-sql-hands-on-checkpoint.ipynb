{
 "cells": [
  {
   "cell_type": "markdown",
   "metadata": {},
   "source": []
  },
  {
   "cell_type": "code",
   "execution_count": null,
   "metadata": {
    "execution": {
     "iopub.execute_input": "2023-09-24T15:42:54.617852Z",
     "iopub.status.busy": "2023-09-24T15:42:54.616406Z",
     "iopub.status.idle": "2023-09-24T15:43:08.918659Z",
     "shell.execute_reply": "2023-09-24T15:43:08.917292Z",
     "shell.execute_reply.started": "2023-09-24T15:42:54.617791Z"
    }
   },
   "outputs": [],
   "source": [
    "! pip install pyspark"
   ]
  },
  {
   "cell_type": "markdown",
   "metadata": {},
   "source": [
    "# Iniciar Sessão Spark"
   ]
  },
  {
   "cell_type": "code",
   "execution_count": null,
   "metadata": {
    "execution": {
     "iopub.execute_input": "2023-09-24T15:43:08.923589Z",
     "iopub.status.busy": "2023-09-24T15:43:08.922478Z",
     "iopub.status.idle": "2023-09-24T15:43:08.938484Z",
     "shell.execute_reply": "2023-09-24T15:43:08.937235Z",
     "shell.execute_reply.started": "2023-09-24T15:43:08.923536Z"
    }
   },
   "outputs": [],
   "source": [
    "from pyspark.sql import SparkSession\n",
    "\n",
    "spark = SparkSession \\\n",
    "        .builder \\\n",
    "        .appName(\"Titanic-ML\") \\\n",
    "        .getOrCreate()\n",
    "\n",
    "spark.version"
   ]
  },
  {
   "cell_type": "markdown",
   "metadata": {},
   "source": [
    "# Carregar o conjunto de dados\n"
   ]
  },
  {
   "cell_type": "code",
   "execution_count": null,
   "metadata": {
    "execution": {
     "iopub.execute_input": "2023-09-24T15:43:08.941163Z",
     "iopub.status.busy": "2023-09-24T15:43:08.940308Z",
     "iopub.status.idle": "2023-09-24T15:43:09.427200Z",
     "shell.execute_reply": "2023-09-24T15:43:09.425976Z",
     "shell.execute_reply.started": "2023-09-24T15:43:08.941116Z"
    }
   },
   "outputs": [],
   "source": [
    "df = spark.read.csv('/kaggle/input/stroke-data', header='True', inferSchema='True')\n",
    "\n",
    "df.printSchema()"
   ]
  },
  {
   "cell_type": "markdown",
   "metadata": {},
   "source": [
    "### Quantos registros existem no arquivo?"
   ]
  },
  {
   "cell_type": "code",
   "execution_count": null,
   "metadata": {
    "execution": {
     "iopub.execute_input": "2023-09-24T15:43:09.430726Z",
     "iopub.status.busy": "2023-09-24T15:43:09.430358Z",
     "iopub.status.idle": "2023-09-24T15:43:09.603604Z",
     "shell.execute_reply": "2023-09-24T15:43:09.602387Z",
     "shell.execute_reply.started": "2023-09-24T15:43:09.430697Z"
    }
   },
   "outputs": [],
   "source": [
    "num_records = df.count()\n",
    "print(f\"O Dataset possui {num_records} registros.\")"
   ]
  },
  {
   "cell_type": "markdown",
   "metadata": {},
   "source": [
    "### Quantas colunas existem no arquivo? "
   ]
  },
  {
   "cell_type": "code",
   "execution_count": null,
   "metadata": {
    "execution": {
     "iopub.execute_input": "2023-09-24T15:43:09.605446Z",
     "iopub.status.busy": "2023-09-24T15:43:09.604995Z",
     "iopub.status.idle": "2023-09-24T15:43:09.644713Z",
     "shell.execute_reply": "2023-09-24T15:43:09.643845Z",
     "shell.execute_reply.started": "2023-09-24T15:43:09.605408Z"
    }
   },
   "outputs": [],
   "source": [
    "num_columns = len(df.columns)\n",
    "\n",
    "print(f\"O DataFrame possui {num_columns} colunas.\")"
   ]
  },
  {
   "cell_type": "markdown",
   "metadata": {},
   "source": [
    "### Quantas são numéricas? "
   ]
  },
  {
   "cell_type": "code",
   "execution_count": null,
   "metadata": {
    "execution": {
     "iopub.execute_input": "2023-09-24T15:43:09.646288Z",
     "iopub.status.busy": "2023-09-24T15:43:09.645935Z",
     "iopub.status.idle": "2023-09-24T15:43:09.654208Z",
     "shell.execute_reply": "2023-09-24T15:43:09.652947Z",
     "shell.execute_reply.started": "2023-09-24T15:43:09.646257Z"
    }
   },
   "outputs": [],
   "source": [
    "from pyspark.sql.types import NumericType\n",
    "\n",
    "num_numeric_cols = 0\n",
    "\n",
    "for col in df.columns:\n",
    "    data_type = df.schema[col].dataType\n",
    "    if isinstance(data_type, NumericType):\n",
    "        num_numeric_cols += 1\n",
    "        \n",
    "print(f\"O DataFrame possui {num_numeric_cols} colunas numéricas.\")"
   ]
  },
  {
   "cell_type": "markdown",
   "metadata": {},
   "source": [
    "### Quantos pacientes sofreram e não sofreram derrame (stroke), respectivamente?"
   ]
  },
  {
   "cell_type": "code",
   "execution_count": null,
   "metadata": {
    "execution": {
     "iopub.execute_input": "2023-09-24T15:43:09.656553Z",
     "iopub.status.busy": "2023-09-24T15:43:09.656133Z",
     "iopub.status.idle": "2023-09-24T15:43:10.112860Z",
     "shell.execute_reply": "2023-09-24T15:43:10.111652Z",
     "shell.execute_reply.started": "2023-09-24T15:43:09.656519Z"
    }
   },
   "outputs": [],
   "source": [
    "df.createOrReplaceTempView('stroke_table')\n",
    "\n",
    "stroke_count = spark.sql(\"SELECT stroke, COUNT(*) as count FROM stroke_table GROUP BY stroke\")\n",
    "stroke_count.show()"
   ]
  },
  {
   "cell_type": "markdown",
   "metadata": {},
   "source": [
    "### Quantos pacientes tiveram derrame por tipo de trabalho (work_type)?\n",
    "\n",
    "Quantos pacientes sofreram derrame e trabalhavam respectivamente, no setor privado, de forma independente, no governo e quantas são crianças?"
   ]
  },
  {
   "cell_type": "code",
   "execution_count": null,
   "metadata": {
    "execution": {
     "iopub.execute_input": "2023-09-24T15:43:10.115550Z",
     "iopub.status.busy": "2023-09-24T15:43:10.114254Z",
     "iopub.status.idle": "2023-09-24T15:43:10.526554Z",
     "shell.execute_reply": "2023-09-24T15:43:10.525155Z",
     "shell.execute_reply.started": "2023-09-24T15:43:10.115508Z"
    }
   },
   "outputs": [],
   "source": [
    "stroke_by_work_type = spark.sql(\"SELECT work_type, COUNT(*) as count FROM stroke_table WHERE stroke = 1 GROUP BY work_type\")\n",
    "stroke_by_work_type.show()"
   ]
  },
  {
   "cell_type": "markdown",
   "metadata": {},
   "source": [
    "### Qual a proporção, por gênero, de participantes do estudo. \n",
    "\n",
    "A maioria dos participantes é?"
   ]
  },
  {
   "cell_type": "code",
   "execution_count": null,
   "metadata": {
    "execution": {
     "iopub.execute_input": "2023-09-24T15:43:10.531166Z",
     "iopub.status.busy": "2023-09-24T15:43:10.529727Z",
     "iopub.status.idle": "2023-09-24T15:43:10.902680Z",
     "shell.execute_reply": "2023-09-24T15:43:10.901126Z",
     "shell.execute_reply.started": "2023-09-24T15:43:10.531113Z"
    }
   },
   "outputs": [],
   "source": [
    "gender = spark.sql(\"SELECT gender, COUNT(*) as count FROM stroke_table GROUP BY gender\")\n",
    "gender.show()"
   ]
  },
  {
   "cell_type": "markdown",
   "metadata": {},
   "source": [
    "### Quem tem mais probabilidade de sofrer derrame: hipertensos ou não-hipertensos?\n",
    " "
   ]
  },
  {
   "cell_type": "code",
   "execution_count": null,
   "metadata": {
    "execution": {
     "iopub.execute_input": "2023-09-24T15:43:10.909499Z",
     "iopub.status.busy": "2023-09-24T15:43:10.908976Z",
     "iopub.status.idle": "2023-09-24T15:43:11.244548Z",
     "shell.execute_reply": "2023-09-24T15:43:11.243632Z",
     "shell.execute_reply.started": "2023-09-24T15:43:10.909457Z"
    }
   },
   "outputs": [],
   "source": [
    "total = spark.sql(\"SELECT hypertension, COUNT(*) as total FROM stroke_table GROUP BY hypertension\")\n",
    "total.show()"
   ]
  },
  {
   "cell_type": "code",
   "execution_count": null,
   "metadata": {
    "execution": {
     "iopub.execute_input": "2023-09-24T15:43:11.246572Z",
     "iopub.status.busy": "2023-09-24T15:43:11.245573Z",
     "iopub.status.idle": "2023-09-24T15:43:11.591402Z",
     "shell.execute_reply": "2023-09-24T15:43:11.590024Z",
     "shell.execute_reply.started": "2023-09-24T15:43:11.246537Z"
    }
   },
   "outputs": [],
   "source": [
    "total_stroke = spark.sql(\"SELECT hypertension, COUNT(*) as total_stroke FROM stroke_table WHERE stroke = 1 GROUP BY hypertension\")\n",
    "total_stroke.show()"
   ]
  },
  {
   "cell_type": "code",
   "execution_count": null,
   "metadata": {
    "execution": {
     "iopub.execute_input": "2023-09-24T15:43:11.593453Z",
     "iopub.status.busy": "2023-09-24T15:43:11.592985Z",
     "iopub.status.idle": "2023-09-24T15:43:12.300697Z",
     "shell.execute_reply": "2023-09-24T15:43:12.299469Z",
     "shell.execute_reply.started": "2023-09-24T15:43:11.593410Z"
    }
   },
   "outputs": [],
   "source": [
    "result = total.join(total_stroke, 'hypertension', 'left_outer')\n",
    "\n",
    "result = result.withColumn(\"Probs_stroke\", result[\"total_stroke\"] / result[\"total\"])\n",
    "\n",
    "result.show()"
   ]
  },
  {
   "cell_type": "markdown",
   "metadata": {},
   "source": [
    "### Qual o número de pessoas que sofreram derrame por idade?"
   ]
  },
  {
   "cell_type": "markdown",
   "metadata": {},
   "source": [
    "\n"
   ]
  },
  {
   "cell_type": "code",
   "execution_count": null,
   "metadata": {
    "execution": {
     "iopub.execute_input": "2023-09-24T15:43:12.302453Z",
     "iopub.status.busy": "2023-09-24T15:43:12.302052Z",
     "iopub.status.idle": "2023-09-24T15:43:12.827212Z",
     "shell.execute_reply": "2023-09-24T15:43:12.825907Z",
     "shell.execute_reply.started": "2023-09-24T15:43:12.302415Z"
    }
   },
   "outputs": [],
   "source": [
    "stroke_by_age = spark.sql(\"SELECT age, COUNT(*) as count FROM stroke_table WHERE stroke = 1 GROUP BY age\")\n",
    "stroke_by_age.show()"
   ]
  },
  {
   "cell_type": "markdown",
   "metadata": {},
   "source": [
    "###  Com qual idade o maior número de pessoas do conjunto de dados sofreu derrame?"
   ]
  },
  {
   "cell_type": "code",
   "execution_count": null,
   "metadata": {
    "execution": {
     "iopub.execute_input": "2023-09-24T15:43:12.829047Z",
     "iopub.status.busy": "2023-09-24T15:43:12.828595Z",
     "iopub.status.idle": "2023-09-24T15:43:13.298056Z",
     "shell.execute_reply": "2023-09-24T15:43:13.297032Z",
     "shell.execute_reply.started": "2023-09-24T15:43:12.829007Z"
    }
   },
   "outputs": [],
   "source": [
    "# Ordenar os resultados em ordem decrescente pela contagem\n",
    "stroke_by_age_ordered = stroke_by_age.orderBy(\"count\", ascending=False)\n",
    "\n",
    "# Selecionar a primeira linha, que terá a idade com a maior contagem\n",
    "greater_age = stroke_by_age_ordered.first()\n",
    "greater_age"
   ]
  },
  {
   "cell_type": "markdown",
   "metadata": {},
   "source": [
    "###  Quantas pessoas sofreram derrames após os 50 anos?"
   ]
  },
  {
   "cell_type": "code",
   "execution_count": null,
   "metadata": {
    "execution": {
     "iopub.execute_input": "2023-09-24T15:43:13.299823Z",
     "iopub.status.busy": "2023-09-24T15:43:13.299346Z",
     "iopub.status.idle": "2023-09-24T15:43:13.650995Z",
     "shell.execute_reply": "2023-09-24T15:43:13.649799Z",
     "shell.execute_reply.started": "2023-09-24T15:43:13.299749Z"
    }
   },
   "outputs": [],
   "source": [
    "stroke_age_greater_50 = spark.sql(\"SELECT age FROM stroke_table WHERE stroke = 1 AND age>50\").count()\n",
    "stroke_age_greater_50 "
   ]
  },
  {
   "cell_type": "markdown",
   "metadata": {},
   "source": [
    "#### Qual o nível médio de glicose para pessoas que, respectivamente, sofreram e não sofreram derrame?"
   ]
  },
  {
   "cell_type": "code",
   "execution_count": null,
   "metadata": {
    "execution": {
     "iopub.execute_input": "2023-09-24T15:43:13.653280Z",
     "iopub.status.busy": "2023-09-24T15:43:13.652830Z",
     "iopub.status.idle": "2023-09-24T15:43:14.015238Z",
     "shell.execute_reply": "2023-09-24T15:43:14.013983Z",
     "shell.execute_reply.started": "2023-09-24T15:43:13.653243Z"
    }
   },
   "outputs": [],
   "source": [
    "avg_glucose_level = spark.sql(\"SELECT stroke, AVG(avg_glucose_level) as avg_glucose FROM stroke_table GROUP BY stroke\")\n",
    "avg_glucose_level.show()"
   ]
  },
  {
   "cell_type": "markdown",
   "metadata": {},
   "source": [
    "### Qual é o BMI (IMC = índice de massa corpórea) médio de quem sofreu e não sofreu derrame?"
   ]
  },
  {
   "cell_type": "code",
   "execution_count": null,
   "metadata": {
    "execution": {
     "iopub.execute_input": "2023-09-24T15:43:14.017055Z",
     "iopub.status.busy": "2023-09-24T15:43:14.016601Z",
     "iopub.status.idle": "2023-09-24T15:43:14.367275Z",
     "shell.execute_reply": "2023-09-24T15:43:14.366306Z",
     "shell.execute_reply.started": "2023-09-24T15:43:14.017013Z"
    }
   },
   "outputs": [],
   "source": [
    "avg_imc = spark.sql(\"SELECT stroke, AVG(bmi) as avg_bmi FROM stroke_table GROUP BY stroke\")\n",
    "avg_imc.show()"
   ]
  },
  {
   "cell_type": "markdown",
   "metadata": {},
   "source": [
    "# Modelo de árvore de decisão para prevê a chance de derrame (stroke) \n"
   ]
  },
  {
   "cell_type": "code",
   "execution_count": null,
   "metadata": {
    "execution": {
     "iopub.execute_input": "2023-09-24T15:43:14.368593Z",
     "iopub.status.busy": "2023-09-24T15:43:14.368288Z",
     "iopub.status.idle": "2023-09-24T15:43:14.386842Z",
     "shell.execute_reply": "2023-09-24T15:43:14.385477Z",
     "shell.execute_reply.started": "2023-09-24T15:43:14.368566Z"
    }
   },
   "outputs": [],
   "source": [
    "train_data, test_data = df.randomSplit([0.7, 0.3])"
   ]
  },
  {
   "cell_type": "code",
   "execution_count": null,
   "metadata": {
    "execution": {
     "iopub.execute_input": "2023-09-24T15:43:14.389588Z",
     "iopub.status.busy": "2023-09-24T15:43:14.389214Z",
     "iopub.status.idle": "2023-09-24T15:43:14.403085Z",
     "shell.execute_reply": "2023-09-24T15:43:14.401835Z",
     "shell.execute_reply.started": "2023-09-24T15:43:14.389557Z"
    }
   },
   "outputs": [],
   "source": [
    "from pyspark.ml.feature import VectorAssembler\n",
    "\n",
    "# usar as variáveis contínuas/categóricas binárias: \n",
    "# idade, BMI, hipertensão, doença do coração, nível médio de glicose.  \n",
    "numerical_cols = ['age', 'bmi', 'hypertension', 'heart_disease', 'avg_glucose_level']\n",
    "\n",
    "assembler = VectorAssembler(inputCols=numerical_cols, outputCol='features')"
   ]
  },
  {
   "cell_type": "code",
   "execution_count": null,
   "metadata": {
    "execution": {
     "iopub.execute_input": "2023-09-24T15:43:14.407514Z",
     "iopub.status.busy": "2023-09-24T15:43:14.406755Z",
     "iopub.status.idle": "2023-09-24T15:43:14.418895Z",
     "shell.execute_reply": "2023-09-24T15:43:14.417830Z",
     "shell.execute_reply.started": "2023-09-24T15:43:14.407478Z"
    }
   },
   "outputs": [],
   "source": [
    "from pyspark.ml.classification import DecisionTreeClassifier\n",
    "\n",
    "classifier = DecisionTreeClassifier(labelCol='stroke', featuresCol='features')"
   ]
  },
  {
   "cell_type": "code",
   "execution_count": null,
   "metadata": {
    "execution": {
     "iopub.execute_input": "2023-09-24T15:43:14.422350Z",
     "iopub.status.busy": "2023-09-24T15:43:14.421234Z",
     "iopub.status.idle": "2023-09-24T15:43:14.429295Z",
     "shell.execute_reply": "2023-09-24T15:43:14.428297Z",
     "shell.execute_reply.started": "2023-09-24T15:43:14.422304Z"
    }
   },
   "outputs": [],
   "source": [
    "from pyspark.ml import Pipeline\n",
    "\n",
    "pipeline = Pipeline(stages=[ assembler, classifier])"
   ]
  },
  {
   "cell_type": "code",
   "execution_count": null,
   "metadata": {
    "execution": {
     "iopub.execute_input": "2023-09-24T15:43:14.432114Z",
     "iopub.status.busy": "2023-09-24T15:43:14.431247Z",
     "iopub.status.idle": "2023-09-24T15:43:17.706527Z",
     "shell.execute_reply": "2023-09-24T15:43:17.705544Z",
     "shell.execute_reply.started": "2023-09-24T15:43:14.432071Z"
    }
   },
   "outputs": [],
   "source": [
    "%time predict_pipeline = pipeline.fit(train_data)"
   ]
  },
  {
   "cell_type": "code",
   "execution_count": null,
   "metadata": {
    "execution": {
     "iopub.execute_input": "2023-09-24T15:43:17.715947Z",
     "iopub.status.busy": "2023-09-24T15:43:17.711603Z",
     "iopub.status.idle": "2023-09-24T15:43:18.346950Z",
     "shell.execute_reply": "2023-09-24T15:43:18.345569Z",
     "shell.execute_reply.started": "2023-09-24T15:43:17.715891Z"
    }
   },
   "outputs": [],
   "source": [
    "predictions = predict_pipeline.transform(test_data)\n",
    "predictions.select('0', 'rawPrediction', 'prediction', 'stroke').show(50)"
   ]
  },
  {
   "cell_type": "code",
   "execution_count": null,
   "metadata": {
    "execution": {
     "iopub.execute_input": "2023-09-24T15:43:18.348991Z",
     "iopub.status.busy": "2023-09-24T15:43:18.348196Z",
     "iopub.status.idle": "2023-09-24T15:43:18.422719Z",
     "shell.execute_reply": "2023-09-24T15:43:18.421473Z",
     "shell.execute_reply.started": "2023-09-24T15:43:18.348934Z"
    }
   },
   "outputs": [],
   "source": [
    "df.show(5)"
   ]
  },
  {
   "cell_type": "markdown",
   "metadata": {},
   "source": [
    "### Métricas do modelo"
   ]
  },
  {
   "cell_type": "code",
   "execution_count": null,
   "metadata": {
    "execution": {
     "iopub.execute_input": "2023-09-24T15:43:18.425679Z",
     "iopub.status.busy": "2023-09-24T15:43:18.424090Z",
     "iopub.status.idle": "2023-09-24T15:43:18.439010Z",
     "shell.execute_reply": "2023-09-24T15:43:18.437697Z",
     "shell.execute_reply.started": "2023-09-24T15:43:18.425636Z"
    }
   },
   "outputs": [],
   "source": [
    "from pyspark.ml.evaluation import MulticlassClassificationEvaluator, BinaryClassificationEvaluator\n",
    "from pyspark.sql import SparkSession, Row\n",
    "\n",
    "def evaluator(predictions):\n",
    "    \n",
    "    # Define as métricas de avaliação\n",
    "    evaluator_acc = MulticlassClassificationEvaluator(labelCol='stroke', predictionCol='prediction', metricName='accuracy')\n",
    "    evaluator_precision = MulticlassClassificationEvaluator(labelCol='stroke', predictionCol='prediction', metricName='weightedPrecision')\n",
    "    evaluator_recall = MulticlassClassificationEvaluator(labelCol='stroke', predictionCol='prediction', metricName='weightedRecall')\n",
    "    evaluator_f1 = MulticlassClassificationEvaluator(labelCol='stroke', predictionCol='prediction', metricName='f1')\n",
    "    evaluator_auc = BinaryClassificationEvaluator(labelCol='stroke', rawPredictionCol='rawPrediction', metricName='areaUnderROC')\n",
    "\n",
    "    # Calcula as métricas\n",
    "    accuracy = evaluator_acc.evaluate(predictions)\n",
    "    precision = evaluator_precision.evaluate(predictions)\n",
    "    recall = evaluator_recall.evaluate(predictions)\n",
    "    f1 = evaluator_f1.evaluate(predictions)\n",
    "    auc = evaluator_auc.evaluate(predictions)\n",
    "\n",
    "    metrics_data = [\n",
    "        Row(Metric=\"Accuracy\", Value=round(accuracy,4)),\n",
    "        Row(Metric=\"Precision\", Value=round(precision,4)),\n",
    "        Row(Metric=\"Recall\", Value=round(recall,4)),\n",
    "        Row(Metric=\"F1 Score\", Value=round(f1,4)),\n",
    "        Row(Metric=\"AUC\", Value=round(auc,4)),\n",
    "    ]\n",
    "\n",
    "    # Create a DataFrame from the list of rows\n",
    "    metrics_df = spark.createDataFrame(metrics_data)\n",
    "    \n",
    "    return metrics_df"
   ]
  },
  {
   "cell_type": "code",
   "execution_count": null,
   "metadata": {
    "execution": {
     "iopub.execute_input": "2023-09-24T15:43:18.443268Z",
     "iopub.status.busy": "2023-09-24T15:43:18.442629Z",
     "iopub.status.idle": "2023-09-24T15:43:21.590396Z",
     "shell.execute_reply": "2023-09-24T15:43:21.589059Z",
     "shell.execute_reply.started": "2023-09-24T15:43:18.443232Z"
    }
   },
   "outputs": [],
   "source": [
    "metrics_df = evaluator(predictions)\n",
    "# Mostra o DataFrame\n",
    "metrics_df.show()"
   ]
  },
  {
   "cell_type": "markdown",
   "metadata": {},
   "source": [
    "### Adicionar ao modelo as variáveis categóricas: gênero e status de fumante"
   ]
  },
  {
   "cell_type": "code",
   "execution_count": null,
   "metadata": {
    "execution": {
     "iopub.execute_input": "2023-09-24T15:43:21.592304Z",
     "iopub.status.busy": "2023-09-24T15:43:21.591858Z",
     "iopub.status.idle": "2023-09-24T15:43:21.624144Z",
     "shell.execute_reply": "2023-09-24T15:43:21.622933Z",
     "shell.execute_reply.started": "2023-09-24T15:43:21.592259Z"
    }
   },
   "outputs": [],
   "source": [
    "from pyspark.ml.feature import StringIndexer\n",
    "from pyspark.ml.feature import OneHotEncoder\n",
    "\n",
    "# Define as colunas a serem tratadas \n",
    "categorical_cols = [\"gender\", \"smoking_status\"]\n",
    "# Cria os StringIndexers para as colunas categóricas\n",
    "string_indexers = [StringIndexer(inputCol=col, outputCol=col + '_index') for col in categorical_cols]\n",
    "# Cria o OneHotEncoder para as colunas indexadas\n",
    "one_hot_encoders = [OneHotEncoder(inputCol=indexer.getOutputCol(), outputCol=indexer.getOutputCol() + '_OHE') for indexer in string_indexers]\n"
   ]
  },
  {
   "cell_type": "code",
   "execution_count": null,
   "metadata": {
    "execution": {
     "iopub.execute_input": "2023-09-24T15:43:21.640061Z",
     "iopub.status.busy": "2023-09-24T15:43:21.636558Z",
     "iopub.status.idle": "2023-09-24T15:43:21.650416Z",
     "shell.execute_reply": "2023-09-24T15:43:21.649543Z",
     "shell.execute_reply.started": "2023-09-24T15:43:21.640011Z"
    }
   },
   "outputs": [],
   "source": [
    "# Crie uma lista de todas as colunas codificadas\n",
    "encoded_cols = [encoder.getOutputCol() for encoder in one_hot_encoders]\n",
    "all_cols = numerical_cols + encoded_cols\n",
    "all_cols"
   ]
  },
  {
   "cell_type": "code",
   "execution_count": null,
   "metadata": {
    "execution": {
     "iopub.execute_input": "2023-09-24T15:43:21.657298Z",
     "iopub.status.busy": "2023-09-24T15:43:21.654985Z",
     "iopub.status.idle": "2023-09-24T15:43:21.669032Z",
     "shell.execute_reply": "2023-09-24T15:43:21.667366Z",
     "shell.execute_reply.started": "2023-09-24T15:43:21.657258Z"
    }
   },
   "outputs": [],
   "source": [
    "assembler = VectorAssembler(inputCols=all_cols, outputCol='features')"
   ]
  },
  {
   "cell_type": "code",
   "execution_count": null,
   "metadata": {
    "execution": {
     "iopub.execute_input": "2023-09-24T15:43:21.671974Z",
     "iopub.status.busy": "2023-09-24T15:43:21.671036Z",
     "iopub.status.idle": "2023-09-24T15:43:21.679233Z",
     "shell.execute_reply": "2023-09-24T15:43:21.678183Z",
     "shell.execute_reply.started": "2023-09-24T15:43:21.671926Z"
    }
   },
   "outputs": [],
   "source": [
    "\n",
    "# Lista de estágios do pipeline\n",
    "stages = string_indexers + one_hot_encoders + [assembler, classifier]\n",
    "# Criar um objeto Pipeline\n",
    "pipeline = Pipeline(stages=stages)"
   ]
  },
  {
   "cell_type": "code",
   "execution_count": null,
   "metadata": {
    "execution": {
     "iopub.execute_input": "2023-09-24T15:43:21.681393Z",
     "iopub.status.busy": "2023-09-24T15:43:21.680929Z",
     "iopub.status.idle": "2023-09-24T15:43:25.997560Z",
     "shell.execute_reply": "2023-09-24T15:43:25.996299Z",
     "shell.execute_reply.started": "2023-09-24T15:43:21.681350Z"
    }
   },
   "outputs": [],
   "source": [
    "%time predict_pipeline = pipeline.fit(train_data)"
   ]
  },
  {
   "cell_type": "code",
   "execution_count": null,
   "metadata": {
    "execution": {
     "iopub.execute_input": "2023-09-24T15:43:25.999985Z",
     "iopub.status.busy": "2023-09-24T15:43:25.999503Z",
     "iopub.status.idle": "2023-09-24T15:43:26.692021Z",
     "shell.execute_reply": "2023-09-24T15:43:26.690614Z",
     "shell.execute_reply.started": "2023-09-24T15:43:25.999941Z"
    }
   },
   "outputs": [],
   "source": [
    "predictions = predict_pipeline.transform(test_data)\n",
    "predictions.select('0', 'rawPrediction', 'prediction', 'stroke').show(50)"
   ]
  },
  {
   "cell_type": "code",
   "execution_count": null,
   "metadata": {
    "execution": {
     "iopub.execute_input": "2023-09-24T15:43:26.693822Z",
     "iopub.status.busy": "2023-09-24T15:43:26.693427Z",
     "iopub.status.idle": "2023-09-24T15:43:29.935071Z",
     "shell.execute_reply": "2023-09-24T15:43:29.933864Z",
     "shell.execute_reply.started": "2023-09-24T15:43:26.693735Z"
    }
   },
   "outputs": [],
   "source": [
    "# Mostrar as métricas\n",
    "metrics_df = evaluator(predictions)\n",
    "metrics_df.show()"
   ]
  },
  {
   "cell_type": "markdown",
   "metadata": {},
   "source": [
    "### Qual dessas variáveis é mais importante no modelo de árvore de decisão?"
   ]
  },
  {
   "cell_type": "code",
   "execution_count": null,
   "metadata": {
    "execution": {
     "iopub.execute_input": "2023-09-24T15:45:02.461921Z",
     "iopub.status.busy": "2023-09-24T15:45:02.461427Z",
     "iopub.status.idle": "2023-09-24T15:45:02.475471Z",
     "shell.execute_reply": "2023-09-24T15:45:02.474243Z",
     "shell.execute_reply.started": "2023-09-24T15:45:02.461879Z"
    }
   },
   "outputs": [],
   "source": [
    "model = predict_pipeline.stages[-1]\n",
    "\n",
    "list(zip(assembler.getInputCols(), model.featureImportances))"
   ]
  },
  {
   "cell_type": "markdown",
   "metadata": {},
   "source": [
    "### Qual a profundidade da árvore de decisão? "
   ]
  },
  {
   "cell_type": "code",
   "execution_count": null,
   "metadata": {
    "execution": {
     "iopub.execute_input": "2023-09-24T15:43:29.960997Z",
     "iopub.status.busy": "2023-09-24T15:43:29.960243Z",
     "iopub.status.idle": "2023-09-24T15:43:29.970188Z",
     "shell.execute_reply": "2023-09-24T15:43:29.968537Z",
     "shell.execute_reply.started": "2023-09-24T15:43:29.960951Z"
    }
   },
   "outputs": [],
   "source": [
    "model.depth"
   ]
  },
  {
   "cell_type": "markdown",
   "metadata": {},
   "source": [
    "### Quantos nodos a árvore de decisão possui?"
   ]
  },
  {
   "cell_type": "code",
   "execution_count": null,
   "metadata": {
    "execution": {
     "iopub.execute_input": "2023-09-24T15:43:29.973132Z",
     "iopub.status.busy": "2023-09-24T15:43:29.972355Z",
     "iopub.status.idle": "2023-09-24T15:43:29.982854Z",
     "shell.execute_reply": "2023-09-24T15:43:29.981939Z",
     "shell.execute_reply.started": "2023-09-24T15:43:29.973086Z"
    }
   },
   "outputs": [],
   "source": [
    "model.numNodes"
   ]
  }
 ],
 "metadata": {
  "kernelspec": {
   "display_name": "Python 3 (ipykernel)",
   "language": "python",
   "name": "python3"
  },
  "language_info": {
   "codemirror_mode": {
    "name": "ipython",
    "version": 3
   },
   "file_extension": ".py",
   "mimetype": "text/x-python",
   "name": "python",
   "nbconvert_exporter": "python",
   "pygments_lexer": "ipython3",
   "version": "3.9.12"
  }
 },
 "nbformat": 4,
 "nbformat_minor": 4
}
